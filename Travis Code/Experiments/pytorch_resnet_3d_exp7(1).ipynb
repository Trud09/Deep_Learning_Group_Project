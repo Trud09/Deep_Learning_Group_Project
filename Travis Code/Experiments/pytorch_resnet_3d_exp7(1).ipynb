{
  "nbformat": 4,
  "nbformat_minor": 0,
  "metadata": {
    "colab": {
      "name": "pytorch_resnet_3d_exp7.ipynb",
      "provenance": [],
      "collapsed_sections": []
    },
    "kernelspec": {
      "name": "python3",
      "display_name": "Python 3"
    },
    "language_info": {
      "name": "python"
    },
    "accelerator": "GPU",
    "widgets": {
      "application/vnd.jupyter.widget-state+json": {
        "719236e0b31948a9b9d1f8a5db8f4294": {
          "model_module": "@jupyter-widgets/controls",
          "model_name": "HBoxModel",
          "state": {
            "_view_name": "HBoxView",
            "_dom_classes": [],
            "_model_name": "HBoxModel",
            "_view_module": "@jupyter-widgets/controls",
            "_model_module_version": "1.5.0",
            "_view_count": null,
            "_view_module_version": "1.5.0",
            "box_style": "",
            "layout": "IPY_MODEL_1a5b094ec4df4bc1bf911b3703a99ca9",
            "_model_module": "@jupyter-widgets/controls",
            "children": [
              "IPY_MODEL_1435c186eedd45b28d8cc4ed6e271d1d",
              "IPY_MODEL_10fcbdd2116b45fa8895135740a58121"
            ]
          }
        },
        "1a5b094ec4df4bc1bf911b3703a99ca9": {
          "model_module": "@jupyter-widgets/base",
          "model_name": "LayoutModel",
          "state": {
            "_view_name": "LayoutView",
            "grid_template_rows": null,
            "right": null,
            "justify_content": null,
            "_view_module": "@jupyter-widgets/base",
            "overflow": null,
            "_model_module_version": "1.2.0",
            "_view_count": null,
            "flex_flow": null,
            "width": null,
            "min_width": null,
            "border": null,
            "align_items": null,
            "bottom": null,
            "_model_module": "@jupyter-widgets/base",
            "top": null,
            "grid_column": null,
            "overflow_y": null,
            "overflow_x": null,
            "grid_auto_flow": null,
            "grid_area": null,
            "grid_template_columns": null,
            "flex": null,
            "_model_name": "LayoutModel",
            "justify_items": null,
            "grid_row": null,
            "max_height": null,
            "align_content": null,
            "visibility": null,
            "align_self": null,
            "height": null,
            "min_height": null,
            "padding": null,
            "grid_auto_rows": null,
            "grid_gap": null,
            "max_width": null,
            "order": null,
            "_view_module_version": "1.2.0",
            "grid_template_areas": null,
            "object_position": null,
            "object_fit": null,
            "grid_auto_columns": null,
            "margin": null,
            "display": null,
            "left": null
          }
        },
        "1435c186eedd45b28d8cc4ed6e271d1d": {
          "model_module": "@jupyter-widgets/controls",
          "model_name": "FloatProgressModel",
          "state": {
            "_view_name": "ProgressView",
            "style": "IPY_MODEL_95528f116d414bf8883917133c770e11",
            "_dom_classes": [],
            "description": "100%",
            "_model_name": "FloatProgressModel",
            "bar_style": "success",
            "max": 102502400,
            "_view_module": "@jupyter-widgets/controls",
            "_model_module_version": "1.5.0",
            "value": 102502400,
            "_view_count": null,
            "_view_module_version": "1.5.0",
            "orientation": "horizontal",
            "min": 0,
            "description_tooltip": null,
            "_model_module": "@jupyter-widgets/controls",
            "layout": "IPY_MODEL_407a916518b048df80a8f474bf23a0f1"
          }
        },
        "10fcbdd2116b45fa8895135740a58121": {
          "model_module": "@jupyter-widgets/controls",
          "model_name": "HTMLModel",
          "state": {
            "_view_name": "HTMLView",
            "style": "IPY_MODEL_5bfa8d30d3d7418f9300ed964328fa5a",
            "_dom_classes": [],
            "description": "",
            "_model_name": "HTMLModel",
            "placeholder": "​",
            "_view_module": "@jupyter-widgets/controls",
            "_model_module_version": "1.5.0",
            "value": " 97.8M/97.8M [03:21&lt;00:00, 509kB/s]",
            "_view_count": null,
            "_view_module_version": "1.5.0",
            "description_tooltip": null,
            "_model_module": "@jupyter-widgets/controls",
            "layout": "IPY_MODEL_bc938002ea754cffa9e1eaee4232900b"
          }
        },
        "95528f116d414bf8883917133c770e11": {
          "model_module": "@jupyter-widgets/controls",
          "model_name": "ProgressStyleModel",
          "state": {
            "_view_name": "StyleView",
            "_model_name": "ProgressStyleModel",
            "description_width": "initial",
            "_view_module": "@jupyter-widgets/base",
            "_model_module_version": "1.5.0",
            "_view_count": null,
            "_view_module_version": "1.2.0",
            "bar_color": null,
            "_model_module": "@jupyter-widgets/controls"
          }
        },
        "407a916518b048df80a8f474bf23a0f1": {
          "model_module": "@jupyter-widgets/base",
          "model_name": "LayoutModel",
          "state": {
            "_view_name": "LayoutView",
            "grid_template_rows": null,
            "right": null,
            "justify_content": null,
            "_view_module": "@jupyter-widgets/base",
            "overflow": null,
            "_model_module_version": "1.2.0",
            "_view_count": null,
            "flex_flow": null,
            "width": null,
            "min_width": null,
            "border": null,
            "align_items": null,
            "bottom": null,
            "_model_module": "@jupyter-widgets/base",
            "top": null,
            "grid_column": null,
            "overflow_y": null,
            "overflow_x": null,
            "grid_auto_flow": null,
            "grid_area": null,
            "grid_template_columns": null,
            "flex": null,
            "_model_name": "LayoutModel",
            "justify_items": null,
            "grid_row": null,
            "max_height": null,
            "align_content": null,
            "visibility": null,
            "align_self": null,
            "height": null,
            "min_height": null,
            "padding": null,
            "grid_auto_rows": null,
            "grid_gap": null,
            "max_width": null,
            "order": null,
            "_view_module_version": "1.2.0",
            "grid_template_areas": null,
            "object_position": null,
            "object_fit": null,
            "grid_auto_columns": null,
            "margin": null,
            "display": null,
            "left": null
          }
        },
        "5bfa8d30d3d7418f9300ed964328fa5a": {
          "model_module": "@jupyter-widgets/controls",
          "model_name": "DescriptionStyleModel",
          "state": {
            "_view_name": "StyleView",
            "_model_name": "DescriptionStyleModel",
            "description_width": "",
            "_view_module": "@jupyter-widgets/base",
            "_model_module_version": "1.5.0",
            "_view_count": null,
            "_view_module_version": "1.2.0",
            "_model_module": "@jupyter-widgets/controls"
          }
        },
        "bc938002ea754cffa9e1eaee4232900b": {
          "model_module": "@jupyter-widgets/base",
          "model_name": "LayoutModel",
          "state": {
            "_view_name": "LayoutView",
            "grid_template_rows": null,
            "right": null,
            "justify_content": null,
            "_view_module": "@jupyter-widgets/base",
            "overflow": null,
            "_model_module_version": "1.2.0",
            "_view_count": null,
            "flex_flow": null,
            "width": null,
            "min_width": null,
            "border": null,
            "align_items": null,
            "bottom": null,
            "_model_module": "@jupyter-widgets/base",
            "top": null,
            "grid_column": null,
            "overflow_y": null,
            "overflow_x": null,
            "grid_auto_flow": null,
            "grid_area": null,
            "grid_template_columns": null,
            "flex": null,
            "_model_name": "LayoutModel",
            "justify_items": null,
            "grid_row": null,
            "max_height": null,
            "align_content": null,
            "visibility": null,
            "align_self": null,
            "height": null,
            "min_height": null,
            "padding": null,
            "grid_auto_rows": null,
            "grid_gap": null,
            "max_width": null,
            "order": null,
            "_view_module_version": "1.2.0",
            "grid_template_areas": null,
            "object_position": null,
            "object_fit": null,
            "grid_auto_columns": null,
            "margin": null,
            "display": null,
            "left": null
          }
        }
      }
    }
  },
  "cells": [
    {
      "cell_type": "code",
      "metadata": {
        "colab": {
          "base_uri": "https://localhost:8080/"
        },
        "id": "0zElu3AK7_E-",
        "outputId": "8398d656-71d5-4321-a191-07ce2ffed968"
      },
      "source": [
        "from google.colab import drive\n",
        "drive.mount('/content/drive')"
      ],
      "execution_count": 1,
      "outputs": [
        {
          "output_type": "stream",
          "text": [
            "Mounted at /content/drive\n"
          ],
          "name": "stdout"
        }
      ]
    },
    {
      "cell_type": "code",
      "metadata": {
        "id": "dnqqy-uHP4UL"
      },
      "source": [
        "root_dir = '/content/drive/MyDrive/Models_exp7'"
      ],
      "execution_count": 2,
      "outputs": []
    },
    {
      "cell_type": "code",
      "metadata": {
        "id": "p3FtG02x-G-i"
      },
      "source": [
        "import os\n",
        "import multiprocessing\n",
        "import numpy as np\n",
        "import cv2\n",
        "import time\n",
        "import shutil\n",
        "\n",
        "import torch\n",
        "import torch.nn as nn\n",
        "import torch.optim as optim\n",
        "import torchvision\n",
        "from torchvision import transforms"
      ],
      "execution_count": 3,
      "outputs": []
    },
    {
      "cell_type": "code",
      "metadata": {
        "colab": {
          "base_uri": "https://localhost:8080/"
        },
        "id": "j3T5TELUrnrk",
        "outputId": "9e309863-66d1-4eed-bb62-43bb4bbd0c99"
      },
      "source": [
        "if torch.cuda.is_available():  \n",
        "  dev = \"cuda:0\" \n",
        "else:  \n",
        "  dev = \"cpu\"  \n",
        "\n",
        "device = torch.device(dev)\n",
        "print(device)"
      ],
      "execution_count": 4,
      "outputs": [
        {
          "output_type": "stream",
          "text": [
            "cuda:0\n"
          ],
          "name": "stdout"
        }
      ]
    },
    {
      "cell_type": "code",
      "metadata": {
        "colab": {
          "base_uri": "https://localhost:8080/"
        },
        "id": "wSh4BhP7mT_K",
        "outputId": "57248d25-7933-4ea8-cece-3a45ef79ee69"
      },
      "source": [
        "!nvidia-smi"
      ],
      "execution_count": 5,
      "outputs": [
        {
          "output_type": "stream",
          "text": [
            "Mon Apr 26 21:49:18 2021       \n",
            "+-----------------------------------------------------------------------------+\n",
            "| NVIDIA-SMI 465.19.01    Driver Version: 460.32.03    CUDA Version: 11.2     |\n",
            "|-------------------------------+----------------------+----------------------+\n",
            "| GPU  Name        Persistence-M| Bus-Id        Disp.A | Volatile Uncorr. ECC |\n",
            "| Fan  Temp  Perf  Pwr:Usage/Cap|         Memory-Usage | GPU-Util  Compute M. |\n",
            "|                               |                      |               MIG M. |\n",
            "|===============================+======================+======================|\n",
            "|   0  Tesla P100-PCIE...  Off  | 00000000:00:04.0 Off |                    0 |\n",
            "| N/A   49C    P0    29W / 250W |      2MiB / 16280MiB |      0%      Default |\n",
            "|                               |                      |                  N/A |\n",
            "+-------------------------------+----------------------+----------------------+\n",
            "                                                                               \n",
            "+-----------------------------------------------------------------------------+\n",
            "| Processes:                                                                  |\n",
            "|  GPU   GI   CI        PID   Type   Process name                  GPU Memory |\n",
            "|        ID   ID                                                   Usage      |\n",
            "|=============================================================================|\n",
            "|  No running processes found                                                 |\n",
            "+-----------------------------------------------------------------------------+\n"
          ],
          "name": "stdout"
        }
      ]
    },
    {
      "cell_type": "code",
      "metadata": {
        "id": "x4iQnfxqE1Dv"
      },
      "source": [
        "#https://towardsdatascience.com/implementing-the-new-state-of-the-art-mish-activation-with-2-lines-of-code-in-pytorch-e7ef438a5ee7\n",
        "def mish(x): \n",
        "  return (x * torch.tanh(nn.functional.softplus(x)))"
      ],
      "execution_count": 6,
      "outputs": []
    },
    {
      "cell_type": "code",
      "metadata": {
        "id": "82GgC7MtuuVT"
      },
      "source": [
        "#https://machinelearningmastery.com/pytorch-tutorial-develop-deep-learning-models/\n",
        "class Model_3d(nn.Module):\n",
        "    '''\n",
        "    A model to use on 3d objects\n",
        "    '''\n",
        "    def __init__(self, fc_nodes, no_views, no_classes):\n",
        "      super(Model_3d, self).__init__()\n",
        "      self.resnet = torchvision.models.resnet50(pretrained=True) #https://pytorch.org/tutorials/beginner/transfer_learning_tutorial.html\n",
        "\n",
        "      num_features = self.resnet.fc.out_features\n",
        "\n",
        "      self.fcs = nn.ModuleList()\n",
        "\n",
        "      for idx in range(no_views):\n",
        "        self.fcs.append(nn.Linear(num_features, fc_nodes))\n",
        "\n",
        "      first_dense_count = fc_nodes * no_views\n",
        "\n",
        "      self.dense_1 = nn.Linear(first_dense_count, 1028)\n",
        "      self.dense_2 = nn.Linear(1028, no_classes)\n",
        "\n",
        "    \n",
        "    def forward(self, x):\n",
        "      features = []\n",
        "\n",
        "      for i, fc in enumerate(self.fcs):\n",
        "        sample = x[:, i, ...]\n",
        "        r_out = self.resnet(sample)\n",
        "\n",
        "        fc_out = fc(r_out)\n",
        "        features.append(fc_out)\n",
        "      \n",
        "      stack = torch.stack(features, 1)\n",
        "\n",
        "      reshaped = stack.view([x.shape[0], -1])\n",
        "\n",
        "      mish_out = mish(reshaped)\n",
        "\n",
        "      x = self.dense_1(mish_out)\n",
        "      x = self.dense_2(mish(x))\n",
        "\n",
        "\n",
        "      return torch.nn.functional.softmax(x)"
      ],
      "execution_count": 7,
      "outputs": []
    },
    {
      "cell_type": "code",
      "metadata": {
        "id": "mYjd0X-wusEO"
      },
      "source": [
        "class Date_3d_Cached(torch.utils.data.Dataset):\n",
        "    def __init__(self, x, y):\n",
        "      self.x = torch.from_numpy(x)\n",
        "      self.y = torch.from_numpy(y)\n",
        "\n",
        "      self.transforms = torchvision.transforms.Compose([\n",
        "                      torchvision.transforms.RandomCrop([224, 224], fill=1.0),\n",
        "                      torchvision.transforms.RandomVerticalFlip(),\n",
        "                      torchvision.transforms.GaussianBlur(5),\n",
        "                      torchvision.transforms.RandomErasing(p=0.5, scale=(0.02, 0.33), ratio=(0.3, 3.3), value=1.0, inplace=False)\n",
        "      ])\n",
        "    \n",
        "    def __len__(self):\n",
        "      return self.x.shape[0]\n",
        "\n",
        "    def __getitem__(self, idx):\n",
        "      x = self.x[idx] /255.0\n",
        "      x = self.transforms(x)\n",
        "      return x, self.y[idx]"
      ],
      "execution_count": 16,
      "outputs": []
    },
    {
      "cell_type": "code",
      "metadata": {
        "id": "Q6OEqBRm-r4e",
        "colab": {
          "base_uri": "https://localhost:8080/",
          "height": 342
        },
        "outputId": "23413b62-60ae-4423-fab5-57141287a677"
      },
      "source": [
        "views = ['bottom', 'side_1', 'side_2', 'side_3', 'side_4', 'top']\n",
        "x = np.load('/content/drive/MyDrive/Cache/x.npy')\n",
        "y = np.load('/content/drive/MyDrive/Cache/y.npy')"
      ],
      "execution_count": 12,
      "outputs": [
        {
          "output_type": "error",
          "ename": "AttributeError",
          "evalue": "ignored",
          "traceback": [
            "\u001b[0;31m---------------------------------------------------------------------------\u001b[0m",
            "\u001b[0;31mAttributeError\u001b[0m                            Traceback (most recent call last)",
            "\u001b[0;32m<ipython-input-12-19bd9775dd1a>\u001b[0m in \u001b[0;36m<module>\u001b[0;34m()\u001b[0m\n\u001b[1;32m      3\u001b[0m \u001b[0my\u001b[0m \u001b[0;34m=\u001b[0m \u001b[0mnp\u001b[0m\u001b[0;34m.\u001b[0m\u001b[0mload\u001b[0m\u001b[0;34m(\u001b[0m\u001b[0;34m'/content/drive/MyDrive/Cache/y.npy'\u001b[0m\u001b[0;34m)\u001b[0m\u001b[0;34m\u001b[0m\u001b[0;34m\u001b[0m\u001b[0m\n\u001b[1;32m      4\u001b[0m \u001b[0;34m\u001b[0m\u001b[0m\n\u001b[0;32m----> 5\u001b[0;31m \u001b[0mtraining_data\u001b[0m \u001b[0;34m=\u001b[0m \u001b[0mDate_3d_Cached\u001b[0m\u001b[0;34m(\u001b[0m\u001b[0mx\u001b[0m\u001b[0;34m,\u001b[0m \u001b[0my\u001b[0m\u001b[0;34m)\u001b[0m\u001b[0;34m\u001b[0m\u001b[0;34m\u001b[0m\u001b[0m\n\u001b[0m",
            "\u001b[0;32m<ipython-input-11-37c7278b3cc2>\u001b[0m in \u001b[0;36m__init__\u001b[0;34m(self, x, y)\u001b[0m\n\u001b[1;32m      5\u001b[0m \u001b[0;34m\u001b[0m\u001b[0m\n\u001b[1;32m      6\u001b[0m       self.transforms = torchvision.transforms.Compose([\n\u001b[0;32m----> 7\u001b[0;31m                       \u001b[0mtorchvision\u001b[0m\u001b[0;34m.\u001b[0m\u001b[0mtransformes\u001b[0m\u001b[0;34m.\u001b[0m\u001b[0mRandomCrop\u001b[0m\u001b[0;34m(\u001b[0m\u001b[0;34m[\u001b[0m\u001b[0;36m224\u001b[0m\u001b[0;34m,\u001b[0m \u001b[0;36m224\u001b[0m\u001b[0;34m]\u001b[0m\u001b[0;34m,\u001b[0m \u001b[0mfill\u001b[0m\u001b[0;34m=\u001b[0m\u001b[0;36m1.0\u001b[0m\u001b[0;34m)\u001b[0m\u001b[0;34m,\u001b[0m\u001b[0;34m\u001b[0m\u001b[0;34m\u001b[0m\u001b[0m\n\u001b[0m\u001b[1;32m      8\u001b[0m                       \u001b[0mtorchvision\u001b[0m\u001b[0;34m.\u001b[0m\u001b[0mtransforms\u001b[0m\u001b[0;34m.\u001b[0m\u001b[0mRandomVerticalFlip\u001b[0m\u001b[0;34m(\u001b[0m\u001b[0;34m)\u001b[0m\u001b[0;34m,\u001b[0m\u001b[0;34m\u001b[0m\u001b[0;34m\u001b[0m\u001b[0m\n\u001b[1;32m      9\u001b[0m                       \u001b[0mtorchvision\u001b[0m\u001b[0;34m.\u001b[0m\u001b[0mtransforms\u001b[0m\u001b[0;34m.\u001b[0m\u001b[0mGaussianBlur\u001b[0m\u001b[0;34m(\u001b[0m\u001b[0;34m)\u001b[0m\u001b[0;34m,\u001b[0m\u001b[0;34m\u001b[0m\u001b[0;34m\u001b[0m\u001b[0m\n",
            "\u001b[0;31mAttributeError\u001b[0m: module 'torchvision' has no attribute 'transformes'"
          ]
        }
      ]
    },
    {
      "cell_type": "code",
      "metadata": {
        "id": "QgrJkkvueTEc"
      },
      "source": [
        "training_data = Date_3d_Cached(x, y)\n",
        "#90/10 train val split\n",
        "train_len = int(len(training_data) * .9)\n",
        "val_len = len(training_data) - train_len"
      ],
      "execution_count": 17,
      "outputs": []
    },
    {
      "cell_type": "code",
      "metadata": {
        "id": "BhCvEGYjdQSj"
      },
      "source": [
        "train_set, val_set = torch.utils.data.random_split(training_data, [train_len, val_len],torch.Generator().manual_seed(42))"
      ],
      "execution_count": 18,
      "outputs": []
    },
    {
      "cell_type": "code",
      "metadata": {
        "id": "WvuyARAKthBB"
      },
      "source": [
        "batch_size = 16"
      ],
      "execution_count": 19,
      "outputs": []
    },
    {
      "cell_type": "code",
      "metadata": {
        "colab": {
          "base_uri": "https://localhost:8080/",
          "height": 105,
          "referenced_widgets": [
            "719236e0b31948a9b9d1f8a5db8f4294",
            "1a5b094ec4df4bc1bf911b3703a99ca9",
            "1435c186eedd45b28d8cc4ed6e271d1d",
            "10fcbdd2116b45fa8895135740a58121",
            "95528f116d414bf8883917133c770e11",
            "407a916518b048df80a8f474bf23a0f1",
            "5bfa8d30d3d7418f9300ed964328fa5a",
            "bc938002ea754cffa9e1eaee4232900b"
          ]
        },
        "id": "3-Fm5OSjVGlm",
        "outputId": "49c597a9-c45f-4c9a-b696-2b9ee72faab0"
      },
      "source": [
        "model = Model_3d(1024, len(views), 10)\n",
        "model.to(device)\n",
        "print(device)\n",
        "training_loader = torch.utils.data.DataLoader(train_set, batch_size= batch_size, shuffle=True, num_workers=os.cpu_count())\n",
        "val_loader = torch.utils.data.DataLoader(val_set, batch_size= batch_size, shuffle=True, num_workers=os.cpu_count())"
      ],
      "execution_count": 20,
      "outputs": [
        {
          "output_type": "stream",
          "text": [
            "Downloading: \"https://download.pytorch.org/models/resnet50-19c8e357.pth\" to /root/.cache/torch/hub/checkpoints/resnet50-19c8e357.pth\n"
          ],
          "name": "stderr"
        },
        {
          "output_type": "display_data",
          "data": {
            "application/vnd.jupyter.widget-view+json": {
              "model_id": "719236e0b31948a9b9d1f8a5db8f4294",
              "version_minor": 0,
              "version_major": 2
            },
            "text/plain": [
              "HBox(children=(FloatProgress(value=0.0, max=102502400.0), HTML(value='')))"
            ]
          },
          "metadata": {
            "tags": []
          }
        },
        {
          "output_type": "stream",
          "text": [
            "\n",
            "cuda:0\n"
          ],
          "name": "stdout"
        }
      ]
    },
    {
      "cell_type": "code",
      "metadata": {
        "colab": {
          "base_uri": "https://localhost:8080/"
        },
        "id": "4nIuLwfCue8c",
        "outputId": "79acfaf9-241a-402b-d61e-a8dadddf7c08"
      },
      "source": [
        "print(os.cpu_count())\n",
        "print(train_len)\n",
        "print(val_len)"
      ],
      "execution_count": 21,
      "outputs": [
        {
          "output_type": "stream",
          "text": [
            "2\n",
            "3591\n",
            "400\n"
          ],
          "name": "stdout"
        }
      ]
    },
    {
      "cell_type": "code",
      "metadata": {
        "id": "EY-fG1QaIPmk"
      },
      "source": [
        "#https://medium.com/analytics-vidhya/saving-and-loading-your-model-to-resume-training-in-pytorch-cb687352fa61\n",
        "def save_ckp(state, model_path):\n",
        "    torch.save(state, model_path)"
      ],
      "execution_count": 22,
      "outputs": []
    },
    {
      "cell_type": "code",
      "metadata": {
        "colab": {
          "base_uri": "https://localhost:8080/"
        },
        "id": "iVH1Z0V6Hpn1",
        "outputId": "96a85112-f280-475a-b208-3cd59235b071"
      },
      "source": [
        "#https://pytorch.org/tutorials/beginner/blitz/cifar10_tutorial.html\n",
        "criterion = nn.CrossEntropyLoss()\n",
        "optimizer = optim.SGD(model.parameters(), lr=0.001, momentum=0.9)\n",
        "\n",
        "if not os.path.exists(root_dir):\n",
        "    os.makedirs(root_dir)\n",
        "\n",
        "\n",
        "low_val_loss = 30000000\n",
        "best_acc = -1\n",
        "epoch = 0\n",
        "\n",
        "val_loss_path = None\n",
        "acc_path = None\n",
        "#https://stackoverflow.com/questions/8078330/csv-writing-within-loop\n",
        "import csv\n",
        "with open(os.path.join(root_dir, 'logs.csv'), 'w') as file_csv:\n",
        "  writer=csv.writer(file_csv, delimiter=',',lineterminator='\\n',)\n",
        "  writer.writerow(['epoch', 'loss', 'acc', 'val_loss', 'val_acc'])\n",
        "\n",
        "\n",
        "  for epoch in range(1, 101):\n",
        "      row = [epoch]\n",
        "      is_best = False\n",
        "      running_loss = 0.0\n",
        "      correct = 0\n",
        "      total = 0\n",
        "\n",
        "      model.train()\n",
        "\n",
        "      t0 = time.time()\n",
        "      for i, data in enumerate(training_loader):\n",
        "          # get the inputs; data is a list of [inputs, labels]\n",
        "          inputs, labels = data\n",
        "\n",
        "          # for this_view in range(inputs.shape[1]):\n",
        "          #   if np.random.randint(0, 4) == 0:\n",
        "          #     inputs[:, this_view, ...] = 1.0\n",
        "\n",
        "          inputs = inputs.to(device)\n",
        "          labels = labels.to(device)\n",
        "\n",
        "          # zero the parameter gradients\n",
        "          optimizer.zero_grad()\n",
        "\n",
        "          # forward + backward + optimize\n",
        "          outputs = model(inputs)\n",
        "          loss = criterion(outputs, labels)\n",
        "          loss.backward()\n",
        "          optimizer.step()\n",
        "\n",
        "          # print statistics\n",
        "          correct += (outputs.argmax(1) == labels).float().sum() #https://stackoverflow.com/questions/51503851/calculate-the-accuracy-every-epoch-in-pytorch\n",
        "          total += labels.shape[0]\n",
        "          running_loss += loss.item()\n",
        "\n",
        "      print('epoch', epoch)\n",
        "      \n",
        "      print('{} seconds'.format(time.time() - t0))\n",
        "      print('loss', running_loss)\n",
        "      row.append(running_loss)\n",
        "      running_loss = 0.0\n",
        "\n",
        "      accuracy = 100 * correct / total\n",
        "      print(\"Accuracy = {}\".format(accuracy))\n",
        "      row.append(torch.IntTensor.item(accuracy))\n",
        "      correct = 0\n",
        "      total= 0\n",
        "\n",
        "      running_loss = 0.0\n",
        "      correct = 0\n",
        "      total = 0\n",
        "\n",
        "      optimizer.zero_grad()\n",
        "      model.eval()\n",
        "      t0 = time.time()\n",
        "      with torch.no_grad():\n",
        "          for i, data in enumerate(val_loader):\n",
        "              \n",
        "              # get the inputs; data is a list of [inputs, labels]\n",
        "              inputs, labels = data\n",
        "              inputs = inputs.to(device)\n",
        "              labels = labels.to(device)            \n",
        "\n",
        "\n",
        "              # forward + backward + optimize\n",
        "              outputs = model(inputs)\n",
        "              loss = criterion(outputs, labels)\n",
        "\n",
        "              correct += (outputs.argmax(1) == labels).float().sum() #https://stackoverflow.com/questions/51503851/calculate-the-accuracy-every-epoch-in-pytorch\n",
        "              total += labels.shape[0]\n",
        "              running_loss += loss.item()\n",
        "\n",
        "      print('{} seconds'.format(time.time() - t0))\n",
        "      print('val loss', running_loss)\n",
        "      row.append(running_loss)\n",
        "      \n",
        "\n",
        "      accuracy = 100 * correct / total\n",
        "      print(\" Val Accuracy = {}\".format(accuracy))\n",
        "      row.append(torch.IntTensor.item(accuracy))\n",
        "\n",
        "      model_name = 'ep_' + str(epoch) + '_loss_' + str(running_loss) + '_acc_' + str(accuracy) + '.pt'\n",
        "      full_model_path = os.path.join(root_dir, model_name)\n",
        "      checkpoint = {\n",
        "          'epoch': epoch + 1,\n",
        "          'state_dict': model.state_dict(),\n",
        "          'optimizer': optimizer.state_dict()\n",
        "      }\n",
        "      if running_loss < low_val_loss:\n",
        "        if val_loss_path and os.path.exists(val_loss_path):\n",
        "          open(val_loss_path, 'w').close() #overwrite and make the file blank instead - ref: https://stackoverflow.com/a/4914288/3553367\n",
        "          os.remove(val_loss_path)\n",
        "        val_loss_path = full_model_path.replace('.pt', 'val_loss_best.pt')\n",
        "        save_ckp(model, val_loss_path)\n",
        "        low_val_loss = running_loss\n",
        "        print('new low loss')\n",
        "\n",
        "      if accuracy > best_acc:\n",
        "        if acc_path and os.path.exists(acc_path):\n",
        "          open(acc_path, 'w').close() #overwrite and make the file blank instead - ref: https://stackoverflow.com/a/4914288/3553367\n",
        "          os.remove(acc_path)\n",
        "        acc_path = full_model_path.replace('.pt', 'acc_best.pt')\n",
        "        save_ckp(model, acc_path)\n",
        "        best_acc = accuracy\n",
        "        print('new best acc')\n",
        "      full_model_path = os.path.join(root_dir, 'last.pt')\n",
        "      save_ckp(checkpoint, full_model_path)\n",
        "          \n",
        "\n",
        "      \n",
        "\n",
        "      correct = 0\n",
        "      total= 0\n",
        "      running_loss = 0.0\n",
        "      writer.writerow(row)\n",
        "  print('Finished Training')"
      ],
      "execution_count": null,
      "outputs": [
        {
          "output_type": "stream",
          "text": [
            "/usr/local/lib/python3.7/dist-packages/ipykernel_launcher.py:43: UserWarning: Implicit dimension choice for softmax has been deprecated. Change the call to include dim=X as an argument.\n"
          ],
          "name": "stderr"
        },
        {
          "output_type": "stream",
          "text": [
            "epoch 1\n",
            "170.53822684288025 seconds\n",
            "loss 471.5462318658829\n",
            "Accuracy = 40.0167121887207\n",
            "16.59243941307068 seconds\n",
            "val loss 46.73152530193329\n",
            " Val Accuracy = 61.0\n",
            "new low loss\n",
            "new best acc\n",
            "epoch 2\n",
            "174.5402331352234 seconds\n",
            "loss 415.78229463100433\n",
            "Accuracy = 62.12754440307617\n",
            "16.274150133132935 seconds\n",
            "val loss 44.40119254589081\n",
            " Val Accuracy = 69.0\n",
            "new low loss\n",
            "new best acc\n",
            "epoch 3\n",
            "172.23827815055847 seconds\n",
            "loss 396.37186777591705\n",
            "Accuracy = 71.15010070800781\n",
            "15.934175968170166 seconds\n",
            "val loss 42.44958257675171\n",
            " Val Accuracy = 78.5\n",
            "new low loss\n",
            "new best acc\n",
            "epoch 4\n",
            "169.9093337059021 seconds\n",
            "loss 375.3795485496521\n",
            "Accuracy = 81.17516326904297\n",
            "16.59286642074585 seconds\n",
            "val loss 41.815927624702454\n",
            " Val Accuracy = 80.0\n",
            "new low loss\n",
            "new best acc\n",
            "epoch 5\n",
            "172.4597463607788 seconds\n",
            "loss 369.37164092063904\n",
            "Accuracy = 82.92955017089844\n",
            "15.810872316360474 seconds\n",
            "val loss 41.12491846084595\n",
            " Val Accuracy = 82.25\n",
            "new low loss\n",
            "new best acc\n",
            "epoch 6\n",
            "170.23873662948608 seconds\n",
            "loss 366.1551971435547\n",
            "Accuracy = 84.07129669189453\n",
            "16.441786766052246 seconds\n",
            "val loss 41.32752072811127\n",
            " Val Accuracy = 82.0\n",
            "epoch 7\n",
            "169.04663848876953 seconds\n",
            "loss 363.49818325042725\n",
            "Accuracy = 85.24088287353516\n",
            "16.429847240447998 seconds\n",
            "val loss 40.25345182418823\n",
            " Val Accuracy = 86.0\n",
            "new low loss\n",
            "new best acc\n",
            "epoch 8\n",
            "169.57920241355896 seconds\n",
            "loss 361.04675221443176\n",
            "Accuracy = 86.29908752441406\n",
            "16.593284130096436 seconds\n",
            "val loss 40.07098650932312\n",
            " Val Accuracy = 86.0\n",
            "new low loss\n",
            "epoch 9\n",
            "167.45760822296143 seconds\n",
            "loss 359.10159826278687\n",
            "Accuracy = 87.13450622558594\n",
            "15.84856629371643 seconds\n",
            "val loss 40.10258865356445\n",
            " Val Accuracy = 85.75\n",
            "epoch 10\n",
            "167.26527214050293 seconds\n",
            "loss 358.1832935810089\n",
            "Accuracy = 87.46867370605469\n",
            "15.776918888092041 seconds\n",
            "val loss 39.86309778690338\n",
            " Val Accuracy = 86.75\n",
            "new low loss\n",
            "new best acc\n",
            "epoch 11\n",
            "167.53885960578918 seconds\n",
            "loss 355.5506719350815\n",
            "Accuracy = 88.6661148071289\n",
            "16.983580350875854 seconds\n",
            "val loss 39.83311986923218\n",
            " Val Accuracy = 86.75\n",
            "new low loss\n",
            "epoch 12\n",
            "162.67277550697327 seconds\n",
            "loss 355.59527599811554\n",
            "Accuracy = 88.69396209716797\n",
            "16.239768028259277 seconds\n",
            "val loss 39.9270783662796\n",
            " Val Accuracy = 87.25\n",
            "new best acc\n",
            "epoch 13\n",
            "163.98500633239746 seconds\n",
            "loss 352.9530510902405\n",
            "Accuracy = 89.89140319824219\n",
            "15.597978353500366 seconds\n",
            "val loss 39.45427417755127\n",
            " Val Accuracy = 88.5\n",
            "new low loss\n",
            "new best acc\n",
            "epoch 14\n",
            "165.95416069030762 seconds\n",
            "loss 349.9612168073654\n",
            "Accuracy = 91.06098937988281\n",
            "16.280755043029785 seconds\n",
            "val loss 39.17745065689087\n",
            " Val Accuracy = 90.0\n",
            "new low loss\n",
            "new best acc\n",
            "epoch 15\n",
            "166.33846402168274 seconds\n",
            "loss 349.9960550069809\n",
            "Accuracy = 91.11668395996094\n",
            "15.87800645828247 seconds\n",
            "val loss 39.3550820350647\n",
            " Val Accuracy = 89.0\n",
            "epoch 16\n",
            "163.57013297080994 seconds\n",
            "loss 349.73842227458954\n",
            "Accuracy = 91.14453125\n",
            "16.1027410030365 seconds\n",
            "val loss 39.12981116771698\n",
            " Val Accuracy = 89.25\n",
            "new low loss\n",
            "epoch 17\n",
            "164.77959203720093 seconds\n",
            "loss 347.42125415802\n",
            "Accuracy = 92.45336151123047\n",
            "16.134061574935913 seconds\n",
            "val loss 39.002549171447754\n",
            " Val Accuracy = 91.25\n",
            "new low loss\n",
            "new best acc\n",
            "epoch 18\n",
            "161.4054434299469 seconds\n",
            "loss 347.3973294496536\n",
            "Accuracy = 92.23058319091797\n",
            "15.375812768936157 seconds\n",
            "val loss 38.9740127325058\n",
            " Val Accuracy = 90.25\n",
            "new low loss\n",
            "epoch 19\n",
            "160.26478791236877 seconds\n",
            "loss 344.45675563812256\n",
            "Accuracy = 93.65079498291016\n",
            "15.49592399597168 seconds\n",
            "val loss 38.88698482513428\n",
            " Val Accuracy = 91.25\n",
            "new low loss\n",
            "epoch 20\n",
            "163.08228397369385 seconds\n",
            "loss 344.18064415454865\n",
            "Accuracy = 93.37232208251953\n",
            "15.847774744033813 seconds\n",
            "val loss 38.549431920051575\n",
            " Val Accuracy = 92.25\n",
            "new low loss\n",
            "new best acc\n",
            "epoch 21\n",
            "164.327166557312 seconds\n",
            "loss 344.3565683364868\n",
            "Accuracy = 93.42801666259766\n",
            "15.057383298873901 seconds\n",
            "val loss 38.89689218997955\n",
            " Val Accuracy = 90.75\n",
            "epoch 22\n",
            "161.10104537010193 seconds\n",
            "loss 343.931755900383\n",
            "Accuracy = 93.67864227294922\n",
            "15.392225742340088 seconds\n",
            "val loss 38.71929085254669\n",
            " Val Accuracy = 91.5\n",
            "epoch 23\n",
            "161.44539761543274 seconds\n",
            "loss 343.05565452575684\n",
            "Accuracy = 94.0128173828125\n",
            "14.564123153686523 seconds\n",
            "val loss 38.53354609012604\n",
            " Val Accuracy = 92.25\n",
            "new low loss\n",
            "epoch 24\n",
            "162.24428343772888 seconds\n",
            "loss 342.7254260778427\n",
            "Accuracy = 94.31913757324219\n",
            "15.95438528060913 seconds\n",
            "val loss 38.842230916023254\n",
            " Val Accuracy = 90.75\n",
            "epoch 25\n",
            "159.08369708061218 seconds\n",
            "loss 342.22690999507904\n",
            "Accuracy = 94.51406860351562\n",
            "15.470265865325928 seconds\n",
            "val loss 38.69868612289429\n",
            " Val Accuracy = 91.5\n",
            "epoch 26\n",
            "160.24647641181946 seconds\n",
            "loss 341.71924090385437\n",
            "Accuracy = 94.4583740234375\n",
            "15.435100078582764 seconds\n",
            "val loss 38.70031177997589\n",
            " Val Accuracy = 92.0\n",
            "epoch 27\n",
            "161.77357864379883 seconds\n",
            "loss 341.91952681541443\n",
            "Accuracy = 94.4583740234375\n",
            "15.61660885810852 seconds\n",
            "val loss 38.516645550727844\n",
            " Val Accuracy = 92.25\n",
            "new low loss\n",
            "epoch 28\n",
            "162.66820621490479 seconds\n",
            "loss 341.5437887907028\n",
            "Accuracy = 94.73684692382812\n",
            "15.173855304718018 seconds\n",
            "val loss 38.46675729751587\n",
            " Val Accuracy = 92.5\n",
            "new low loss\n",
            "new best acc\n",
            "epoch 29\n",
            "163.6359691619873 seconds\n",
            "loss 342.05097258090973\n",
            "Accuracy = 94.56976318359375\n",
            "15.99024510383606 seconds\n",
            "val loss 38.71781373023987\n",
            " Val Accuracy = 91.0\n",
            "epoch 30\n",
            "160.76644110679626 seconds\n",
            "loss 342.1334179639816\n",
            "Accuracy = 94.235595703125\n",
            "15.45202898979187 seconds\n",
            "val loss 38.79175651073456\n",
            " Val Accuracy = 91.0\n",
            "epoch 31\n",
            "161.435631275177 seconds\n",
            "loss 340.8225791454315\n",
            "Accuracy = 94.79254150390625\n",
            "15.69520092010498 seconds\n",
            "val loss 38.4110871553421\n",
            " Val Accuracy = 92.25\n",
            "new low loss\n",
            "epoch 32\n",
            "163.38876795768738 seconds\n",
            "loss 340.7673622369766\n",
            "Accuracy = 94.98747253417969\n",
            "15.05556321144104 seconds\n",
            "val loss 38.592135429382324\n",
            " Val Accuracy = 91.75\n",
            "epoch 33\n",
            "162.71194195747375 seconds\n",
            "loss 340.139572262764\n",
            "Accuracy = 95.29379272460938\n",
            "15.610901832580566 seconds\n",
            "val loss 38.72916042804718\n",
            " Val Accuracy = 90.75\n",
            "epoch 34\n",
            "163.67668199539185 seconds\n",
            "loss 340.50165009498596\n",
            "Accuracy = 94.84823608398438\n",
            "15.724425554275513 seconds\n",
            "val loss 38.88448417186737\n",
            " Val Accuracy = 90.75\n",
            "epoch 35\n",
            "163.36178064346313 seconds\n",
            "loss 340.407351732254\n",
            "Accuracy = 95.01531982421875\n",
            "16.01917839050293 seconds\n",
            "val loss 38.5011203289032\n",
            " Val Accuracy = 92.25\n",
            "epoch 36\n",
            "163.13843488693237 seconds\n",
            "loss 339.353581905365\n",
            "Accuracy = 95.62796020507812\n",
            "15.774914741516113 seconds\n",
            "val loss 38.269192576408386\n",
            " Val Accuracy = 93.25\n",
            "new low loss\n",
            "new best acc\n",
            "epoch 37\n",
            "163.69884848594666 seconds\n",
            "loss 340.18223440647125\n",
            "Accuracy = 95.29379272460938\n",
            "16.2542827129364 seconds\n",
            "val loss 38.52077531814575\n",
            " Val Accuracy = 91.75\n",
            "epoch 38\n",
            "165.08898520469666 seconds\n",
            "loss 340.1381928920746\n",
            "Accuracy = 95.126708984375\n",
            "15.065836429595947 seconds\n",
            "val loss 38.393651843070984\n",
            " Val Accuracy = 92.5\n",
            "epoch 39\n",
            "164.98214888572693 seconds\n",
            "loss 339.3841189146042\n",
            "Accuracy = 95.46087646484375\n",
            "15.459740161895752 seconds\n",
            "val loss 38.26392066478729\n",
            " Val Accuracy = 93.25\n",
            "new low loss\n",
            "epoch 40\n",
            "165.62799286842346 seconds\n",
            "loss 338.6086130142212\n",
            "Accuracy = 95.68365478515625\n",
            "16.037973403930664 seconds\n",
            "val loss 38.86229169368744\n",
            " Val Accuracy = 90.25\n",
            "epoch 41\n",
            "163.391535282135 seconds\n",
            "loss 338.6987305879593\n",
            "Accuracy = 95.7393569946289\n",
            "16.504552602767944 seconds\n",
            "val loss 38.629905343055725\n",
            " Val Accuracy = 91.25\n",
            "epoch 42\n",
            "163.63221716880798 seconds\n",
            "loss 339.2641462087631\n",
            "Accuracy = 95.51657104492188\n",
            "16.24573564529419 seconds\n",
            "val loss 38.6603866815567\n",
            " Val Accuracy = 91.5\n",
            "epoch 43\n",
            "162.9389259815216 seconds\n",
            "loss 339.01947796344757\n",
            "Accuracy = 95.65580749511719\n",
            "15.495203971862793 seconds\n",
            "val loss 38.18695783615112\n",
            " Val Accuracy = 93.25\n",
            "new low loss\n",
            "epoch 44\n",
            "161.25951623916626 seconds\n",
            "loss 338.9801024198532\n",
            "Accuracy = 95.46087646484375\n",
            "15.921703100204468 seconds\n",
            "val loss 38.575815320014954\n",
            " Val Accuracy = 92.0\n",
            "epoch 45\n",
            "159.24040150642395 seconds\n",
            "loss 339.3711279630661\n",
            "Accuracy = 95.37733459472656\n",
            "15.501604557037354 seconds\n",
            "val loss 38.41035985946655\n",
            " Val Accuracy = 92.75\n",
            "epoch 46\n",
            "159.2255609035492 seconds\n",
            "loss 339.33686316013336\n",
            "Accuracy = 95.37733459472656\n",
            "14.889979600906372 seconds\n",
            "val loss 38.61528193950653\n",
            " Val Accuracy = 91.5\n"
          ],
          "name": "stdout"
        }
      ]
    },
    {
      "cell_type": "code",
      "metadata": {
        "id": "vl2LSt99Vmqy"
      },
      "source": [
        "import pandas as pd\n",
        "     \n",
        "# dictionary of lists  \n",
        "this_dict = {'training loss': training_loss_list, 'training acc': training_acc_list, 'val loss': val_loss_list, 'val acc':val_acc_list}  \n",
        "       \n",
        "df = pd.DataFrame(this_dict) \n",
        "    \n",
        "# saving the dataframe \n",
        "df.to_csv(os.path.join(root_dir, 'logs.csv'))"
      ],
      "execution_count": null,
      "outputs": []
    },
    {
      "cell_type": "code",
      "metadata": {
        "id": "xM_87Dujyeat"
      },
      "source": [
        "print('saved csv')"
      ],
      "execution_count": null,
      "outputs": []
    },
    {
      "cell_type": "code",
      "metadata": {
        "id": "mWuip_oEF_of"
      },
      "source": [
        "print(row)"
      ],
      "execution_count": null,
      "outputs": []
    },
    {
      "cell_type": "code",
      "metadata": {
        "id": "-8MAE2jwG98_"
      },
      "source": [
        ""
      ],
      "execution_count": null,
      "outputs": []
    }
  ]
}